{
 "cells": [
  {
   "cell_type": "markdown",
   "id": "8b1ccea9-a90d-4aa1-9df7-0dd5cbd4cfa5",
   "metadata": {},
   "source": [
    "# Integrating Vertica with Dask\n",
    "## Imports and basic setup"
   ]
  },
  {
   "cell_type": "code",
   "execution_count": null,
   "id": "b779cbc2-b55e-4199-b0db-5e0bccef18a8",
   "metadata": {},
   "outputs": [],
   "source": [
    "import numpy as np\n",
    "import pandas as pd\n",
    "import dask\n",
    "import dask.dataframe as dd\n",
    "from distributed.client import Client\n",
    "\n",
    "import vertica_python\n",
    "from verticapy.vdataframe import vDataFrame\n",
    "from dask_vertica import (\n",
    "    to_vertica,\n",
    "    read_vertica,\n",
    ")\n",
    "\n",
    "\n",
    "schema = \"coiled_schema\"\n",
    "\n",
    "vdb = {\n",
    "    'host': 'xx.xx.xx.xx',\n",
    "    'port': 5433,\n",
    "    'user': '<vertica_db_username>',\n",
    "    'password': '<vertica_db_password>',\n",
    "    'database': '<vertica_db>',\n",
    "    'connection_load_balance': True,\n",
    "    'session_label': 'py',\n",
    "    'unicode_error': 'strict'\n",
    "}\n",
    "client = Client(n_workers=4)\n",
    "client"
   ]
  },
  {
   "cell_type": "markdown",
   "id": "f4fcdadc-6ccf-4ebb-bdec-05bcd24d0157",
   "metadata": {},
   "source": [
    "## Create a large(-ish) time series dataframe \n",
    "(1 year of 30-sec data)"
   ]
  },
  {
   "cell_type": "code",
   "execution_count": null,
   "id": "76c2d784-d75c-4029-beaf-595ef313668f",
   "metadata": {},
   "outputs": [],
   "source": [
    "# larger DF with more partitions\n",
    "demo_ts = dd.demo.make_timeseries(\n",
    "    start=\"2000-01-01\",\n",
    "    end=\"2000-12-31\",\n",
    "    freq=\"30s\",\n",
    "    partition_freq=\"1W\"\n",
    ")"
   ]
  },
  {
   "cell_type": "markdown",
   "id": "a5cb83d4-1d98-4131-8d11-d5aae7d00d32",
   "metadata": {},
   "source": [
    "## Upload the dataframe to a Vertica database\n",
    "(this will overwrite any existing table of the same name)"
   ]
  },
  {
   "cell_type": "code",
   "execution_count": null,
   "id": "4a0c1895-f26e-4ced-9bb2-696881479c08",
   "metadata": {
    "tags": []
   },
   "outputs": [],
   "source": [
    "to_vertica(demo_ts, vdb, \"demo_ts\", schema=schema, if_exists=\"overwrite\")"
   ]
  },
  {
   "cell_type": "markdown",
   "id": "77d32fad-8fc5-40c0-aae0-3d868ea186ef",
   "metadata": {},
   "source": [
    "## Try to upload load again, this time with `if_exists = \"error\"` to prevent overwriting"
   ]
  },
  {
   "cell_type": "code",
   "execution_count": null,
   "id": "89ff1f39-51b9-4bd7-bf69-b465864377ef",
   "metadata": {},
   "outputs": [],
   "source": [
    "try:\n",
    "    to_vertica(demo_ts, vdb, \"demo_ts\", schema=schema, if_exists=\"error\")\n",
    "except RuntimeError:\n",
    "    print(\"Sucessfully avoided disaster\")"
   ]
  },
  {
   "cell_type": "markdown",
   "id": "2593efaa-e53f-488e-9dae-644ef107ac52",
   "metadata": {},
   "source": [
    "## Now fetch the table we uploaded as a dataframe and do some calculations"
   ]
  },
  {
   "cell_type": "code",
   "execution_count": null,
   "id": "fa3fc0be-1f73-4007-bee2-c71998898c6f",
   "metadata": {
    "tags": []
   },
   "outputs": [],
   "source": [
    "demo_means = read_vertica(vdb, \"demo_ts\", 50, schema=schema).groupby(\"name\")[\"y\"].mean()\n",
    "demo_means  # dask series, uncomputed"
   ]
  },
  {
   "cell_type": "markdown",
   "id": "b10b6288-be2d-4536-920e-9dd485b2fcc8",
   "metadata": {},
   "source": [
    "### Now do the computation"
   ]
  },
  {
   "cell_type": "code",
   "execution_count": null,
   "id": "c022ffae-3d2a-448a-8cb8-d515cc334cdd",
   "metadata": {},
   "outputs": [],
   "source": [
    "demo_means.compute()"
   ]
  }
 ],
 "metadata": {
  "kernelspec": {
   "display_name": "Python 3 (ipykernel)",
   "language": "python",
   "name": "python3"
  },
  "language_info": {
   "codemirror_mode": {
    "name": "ipython",
    "version": 3
   },
   "file_extension": ".py",
   "mimetype": "text/x-python",
   "name": "python",
   "nbconvert_exporter": "python",
   "pygments_lexer": "ipython3",
   "version": "3.9.10"
  }
 },
 "nbformat": 4,
 "nbformat_minor": 5
}
